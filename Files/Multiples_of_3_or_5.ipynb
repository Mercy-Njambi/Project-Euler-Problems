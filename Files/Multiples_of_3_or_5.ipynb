{
  "nbformat": 4,
  "nbformat_minor": 0,
  "metadata": {
    "colab": {
      "provenance": [],
      "authorship_tag": "ABX9TyNaa0BjHiqNcvQtFBkaMIB8",
      "include_colab_link": true
    },
    "kernelspec": {
      "name": "python3",
      "display_name": "Python 3"
    },
    "language_info": {
      "name": "python"
    }
  },
  "cells": [
    {
      "cell_type": "markdown",
      "metadata": {
        "id": "view-in-github",
        "colab_type": "text"
      },
      "source": [
        "<a href=\"https://colab.research.google.com/github/Mercy-Njambi/Project-Euler-Problems/blob/main/Files/Multiples_of_3_or_5.ipynb\" target=\"_parent\"><img src=\"https://colab.research.google.com/assets/colab-badge.svg\" alt=\"Open In Colab\"/></a>"
      ]
    },
    {
      "cell_type": "markdown",
      "source": [
        "# QUESTION\n",
        "\n",
        "If we list all the natural numbers below 10 that are multiples of 3 or 5, we get 3, 5, 6 and 9. The sum of these multiples is 23.\n",
        "\n",
        "Find the sum of all the multiples of 3 or 5 below 1000."
      ],
      "metadata": {
        "id": "d6pggMR1Vp5g"
      }
    },
    {
      "cell_type": "code",
      "source": [
        "def sum_of_multiples(num: int) -> int:\n",
        "  '''\n",
        "  This function gets the sum of numbers that are multiples of 3 or 5.\n",
        "  '''\n",
        "  num_sum = 0\n",
        "  for n in range(num):\n",
        "    if n%3==0 or n%5==0:\n",
        "      num_sum += n\n",
        "  return num_sum"
      ],
      "metadata": {
        "id": "uxemLHkfYNVV"
      },
      "execution_count": 1,
      "outputs": []
    },
    {
      "cell_type": "code",
      "source": [
        "sum_of_multiples(10)"
      ],
      "metadata": {
        "colab": {
          "base_uri": "https://localhost:8080/"
        },
        "id": "oHC8m3Q0aGU0",
        "outputId": "2618d6da-4088-402a-8965-fe766cf16560"
      },
      "execution_count": 2,
      "outputs": [
        {
          "output_type": "execute_result",
          "data": {
            "text/plain": [
              "23"
            ]
          },
          "metadata": {},
          "execution_count": 2
        }
      ]
    },
    {
      "cell_type": "code",
      "source": [
        "sum_of_multiples(1000)"
      ],
      "metadata": {
        "colab": {
          "base_uri": "https://localhost:8080/"
        },
        "id": "9luabUKEaK5D",
        "outputId": "5b890121-87cd-42be-d539-28ab8e731ed7"
      },
      "execution_count": 3,
      "outputs": [
        {
          "output_type": "execute_result",
          "data": {
            "text/plain": [
              "233168"
            ]
          },
          "metadata": {},
          "execution_count": 3
        }
      ]
    },
    {
      "cell_type": "code",
      "source": [],
      "metadata": {
        "id": "4bFg618aaO_B"
      },
      "execution_count": 3,
      "outputs": []
    }
  ]
}
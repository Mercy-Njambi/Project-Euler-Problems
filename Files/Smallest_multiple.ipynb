{
  "nbformat": 4,
  "nbformat_minor": 0,
  "metadata": {
    "colab": {
      "provenance": [],
      "authorship_tag": "ABX9TyN+sJnhwOb3DkxR0HL4Iqf3",
      "include_colab_link": true
    },
    "kernelspec": {
      "name": "python3",
      "display_name": "Python 3"
    },
    "language_info": {
      "name": "python"
    }
  },
  "cells": [
    {
      "cell_type": "markdown",
      "metadata": {
        "id": "view-in-github",
        "colab_type": "text"
      },
      "source": [
        "<a href=\"https://colab.research.google.com/github/Mercy-Njambi/Project-Euler-Problems/blob/main/Files/Smallest_multiple.ipynb\" target=\"_parent\"><img src=\"https://colab.research.google.com/assets/colab-badge.svg\" alt=\"Open In Colab\"/></a>"
      ]
    },
    {
      "cell_type": "markdown",
      "source": [
        "# QUESTION\n"
      ],
      "metadata": {
        "id": "zqVPZ-Sv351I"
      }
    },
    {
      "cell_type": "markdown",
      "source": [
        "2520 is the smallest number that can be divided by each of the numbers from 1 to 10 without any remainder.\n",
        "\n",
        "What is the smallest positive number that is evenly divisible by all of the numbers from 1 to 20?"
      ],
      "metadata": {
        "id": "hpnT_80q4AFS"
      }
    },
    {
      "cell_type": "code",
      "source": [
        "def find_smallest_divisible():\n",
        "    number = 1\n",
        "    divisible = False\n",
        "    \n",
        "    while not divisible:\n",
        "        divisible = True\n",
        "        for i in range(1, 21):\n",
        "            if number % i != 0:\n",
        "                divisible = False\n",
        "                break\n",
        "        if not divisible:\n",
        "            number += 1\n",
        "    \n",
        "    return number\n",
        "\n",
        "result = find_smallest_divisible()\n",
        "print(result)\n"
      ],
      "metadata": {
        "colab": {
          "base_uri": "https://localhost:8080/"
        },
        "id": "Ul39wTEWAgZk",
        "outputId": "0e51fd1a-d1aa-4bb8-bf03-91cbcb570302"
      },
      "execution_count": 11,
      "outputs": [
        {
          "output_type": "stream",
          "name": "stdout",
          "text": [
            "232792560\n"
          ]
        }
      ]
    },
    {
      "cell_type": "code",
      "source": [
        "from math import gcd\n",
        "\n",
        "def lcm(a, b):\n",
        "    return abs(a * b) // gcd(a, b)\n",
        "\n",
        "def find_smallest_divisible():\n",
        "    current_lcm = 1\n",
        "    for i in range(1, 21):\n",
        "        current_lcm = lcm(current_lcm, i)\n",
        "    return current_lcm\n",
        "\n",
        "result = find_smallest_divisible()\n",
        "print(result)\n"
      ],
      "metadata": {
        "colab": {
          "base_uri": "https://localhost:8080/"
        },
        "id": "TEZQXeqBOe1H",
        "outputId": "69d01df8-1523-461c-f781-28f6aa2b09b1"
      },
      "execution_count": 12,
      "outputs": [
        {
          "output_type": "stream",
          "name": "stdout",
          "text": [
            "232792560\n"
          ]
        }
      ]
    },
    {
      "cell_type": "code",
      "source": [],
      "metadata": {
        "id": "fm7okwYPPCht"
      },
      "execution_count": null,
      "outputs": []
    }
  ]
}